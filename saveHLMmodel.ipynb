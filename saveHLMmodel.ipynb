{
 "cells": [
  {
   "cell_type": "code",
   "execution_count": 1,
   "metadata": {},
   "outputs": [
    {
     "name": "stderr",
     "output_type": "stream",
     "text": [
      "Using TensorFlow backend.\n"
     ]
    }
   ],
   "source": [
    "import tensorflow as tf\n",
    "import numpy as np\n",
    "import math\n",
    "import pandas as pd\n",
    "\n",
    "from tensorflow.python.keras import backend as K\n",
    "from tensorflow.python.keras.models import Sequential\n",
    "from tensorflow.python.keras.layers import InputLayer, Input\n",
    "from tensorflow.python.keras.layers import Reshape, MaxPooling2D\n",
    "from tensorflow.python.keras.layers import Conv2D, Dense, Flatten\n",
    "from tensorflow.python.keras.callbacks import TensorBoard\n",
    "from tensorflow.python.keras.optimizers import Adam\n",
    "from tensorflow.python.keras.models import load_model\n",
    "from keras.models import model_from_json\n",
    "from tensorflow import keras"
   ]
  },
  {
   "cell_type": "code",
   "execution_count": 2,
   "metadata": {},
   "outputs": [],
   "source": [
    "def xyPart(data):\n",
    "    Xdata = data.iloc[:,0:177]\n",
    "    Ydata = []\n",
    "    for elem in data.iloc[:,177]:\n",
    "        if elem == \"Low\":\n",
    "            Ydata.append(0)\n",
    "        elif elem == \"High\":\n",
    "            Ydata.append(1)\n",
    "    Ydata = np.array(Ydata)\n",
    "    return Xdata, Ydata"
   ]
  },
  {
   "cell_type": "code",
   "execution_count": 3,
   "metadata": {},
   "outputs": [
    {
     "name": "stdout",
     "output_type": "stream",
     "text": [
      "Index(['rdk.fr_C_O_noCOO', 'rdk.Chi4v', 'rdk.fr_Ar_COO', 'rdk.fr_SH',\n",
      "       'rdk.Chi4n', 'rdk.SMR_VSA10', 'rdk.fr_para_hydroxylation',\n",
      "       'rdk.fr_barbitur', 'rdk.fr_halogen', 'rdk.fr_dihydropyridine',\n",
      "       ...\n",
      "       'rdk.PEOE_VSA9', 'rdk.fr_aldehyde', 'rdk.fr_pyridine',\n",
      "       'rdk.fr_tetrazole', 'rdk.RingCount', 'rdk.fr_nitro_arom_nonortho',\n",
      "       'rdk.Chi0v', 'rdk.fr_ArN', 'rdk.NumRotatableBonds', 'c#ClappClass'],\n",
      "      dtype='object', length=178)\n"
     ]
    }
   ],
   "source": [
    "# Load and preprocess data\n",
    "data = pd.read_csv('HLMdesc.txt', sep=\"\\t\")\n",
    "data = data.drop(columns = ['Protocol Number', 'Experiment Start Time', 'Experiment Stop Time', 'Result Type Name', 'Result Operator', 'Result Number Rounded',\\\n",
    " 'Project NumName', 'Smiles', 'Leonumber', 'DResult Text', 'DResult Text_1'])\n",
    "data = data.drop(columns = ['Protocol Number_1', 'Experiment Start Time_1', 'Experiment Stop Time_1', 'Result Type Name_1', 'Result Operator_1', 'Result Number Rounded_1', 'Project NumName_1',\\\n",
    "       'Leonumber_1', 'origSmiles_1', 'ClappClass_1'])\n",
    "print(data.columns)\n"
   ]
  },
  {
   "cell_type": "code",
   "execution_count": 4,
   "metadata": {},
   "outputs": [
    {
     "name": "stdout",
     "output_type": "stream",
     "text": [
      "Index(['rdk.fr_C_O_noCOO', 'rdk.Chi4v', 'rdk.fr_Ar_COO', 'rdk.fr_SH',\n",
      "       'rdk.Chi4n', 'rdk.SMR_VSA10', 'rdk.fr_para_hydroxylation',\n",
      "       'rdk.fr_barbitur', 'rdk.fr_halogen', 'rdk.fr_dihydropyridine',\n",
      "       ...\n",
      "       'rdk.MolMR', 'rdk.PEOE_VSA9', 'rdk.fr_aldehyde', 'rdk.fr_pyridine',\n",
      "       'rdk.fr_tetrazole', 'rdk.RingCount', 'rdk.fr_nitro_arom_nonortho',\n",
      "       'rdk.Chi0v', 'rdk.fr_ArN', 'rdk.NumRotatableBonds'],\n",
      "      dtype='object', length=177)\n"
     ]
    }
   ],
   "source": [
    "# Seperate test set\n",
    "train = data.sample(frac=0.8,random_state=0)\n",
    "test = data.drop(train.index)\n",
    "#print(len(train))\n",
    "#print(len(test))\n",
    "Xtrain, Ytrain = xyPart(train)\n",
    "Xtest, Ytest = xyPart(test)\n",
    "print(Xtrain.columns)"
   ]
  },
  {
   "cell_type": "code",
   "execution_count": 5,
   "metadata": {},
   "outputs": [],
   "source": [
    "# Normalize\n",
    "data_stats = Xtrain.describe()\n",
    "data_stats = data_stats.transpose()\n",
    "def norm(x):\n",
    "  return (x - data_stats['mean']) / data_stats['std']\n",
    "nXtrain = norm(Xtrain)\n",
    "nXtest = norm(Xtest)\n",
    "#print(Xtrain.values[0])\n",
    "#print(nXtrain.values[0])"
   ]
  },
  {
   "cell_type": "code",
   "execution_count": 6,
   "metadata": {},
   "outputs": [],
   "source": [
    "# Rm columns containing NA\n",
    "allCol = nXtrain.columns\n",
    "ncXtrain = nXtrain.dropna(axis='columns')\n",
    "col = ncXtrain.columns  # After removing NA cols\n",
    "delCol = []\n",
    "for c in allCol:\n",
    "    if c not in col:\n",
    "        delCol.append(c)\n",
    "ncXtest = nXtest.drop(delCol, axis=1)\n",
    "#print(nXtrain.values[0])\n",
    "#print(ncXtrain.values[0])\n",
    "#print(ncXtest.columns)"
   ]
  },
  {
   "cell_type": "code",
   "execution_count": 7,
   "metadata": {},
   "outputs": [
    {
     "name": "stderr",
     "output_type": "stream",
     "text": [
      "C:\\Users\\jgwdk\\AppData\\Local\\Continuum\\miniconda3\\envs\\myAzureEnv\\lib\\site-packages\\sklearn\\linear_model\\logistic.py:433: FutureWarning: Default solver will be changed to 'lbfgs' in 0.22. Specify a solver to silence this warning.\n",
      "  FutureWarning)\n"
     ]
    },
    {
     "name": "stdout",
     "output_type": "stream",
     "text": [
      "LogisticRegression(C=1.0, class_weight=None, dual=False, fit_intercept=True,\n",
      "          intercept_scaling=1, max_iter=100, multi_class='warn',\n",
      "          n_jobs=None, penalty='l2', random_state=None, solver='warn',\n",
      "          tol=0.0001, verbose=0, warm_start=False)\n"
     ]
    }
   ],
   "source": [
    "from sklearn.linear_model import LogisticRegression\n",
    "\n",
    "learner = LogisticRegression()\n",
    "model = learner.fit(ncXtrain, Ytrain)\n",
    "print(model)"
   ]
  },
  {
   "cell_type": "code",
   "execution_count": 8,
   "metadata": {},
   "outputs": [],
   "source": [
    "pred = model.predict(ncXtest)"
   ]
  },
  {
   "cell_type": "code",
   "execution_count": 9,
   "metadata": {},
   "outputs": [],
   "source": [
    "def getCA(pred, Ytest):\n",
    "    true = false = 0\n",
    "    for idx in range(len(pred)):\n",
    "        if Ytest[idx] == pred[idx]:\n",
    "            true = true + 1\n",
    "        else:\n",
    "            false = false + 1\n",
    "    print(true, false)        \n",
    "    print(\"CA \", true/float(true+false))\n",
    "    CA = true/float(true+false)\n",
    "    return CA\n"
   ]
  },
  {
   "cell_type": "code",
   "execution_count": 13,
   "metadata": {},
   "outputs": [
    {
     "name": "stdout",
     "output_type": "stream",
     "text": [
      "Original model\n",
      "1222 259\n",
      "CA  0.8251181634031061\n"
     ]
    }
   ],
   "source": [
    "print(\"Original model\")\n",
    "getCA(pred, Ytest)\n",
    "\n",
    "import pickle\n",
    "fid = open(\"modelDump.pkl\", \"wb\")\n",
    "modelFid = pickle.dump(model, fid)\n",
    "fid.close()\n",
    "#modelFid = pickle.dumps(model)\n"
   ]
  },
  {
   "cell_type": "code",
   "execution_count": 17,
   "metadata": {},
   "outputs": [
    {
     "name": "stdout",
     "output_type": "stream",
     "text": [
      "Loaded model\n",
      "1222 259\n",
      "CA  0.8251181634031061\n"
     ]
    },
    {
     "data": {
      "text/plain": [
       "0.8251181634031061"
      ]
     },
     "execution_count": 17,
     "metadata": {},
     "output_type": "execute_result"
    }
   ],
   "source": [
    "fid = open(\"modelDump.pkl\", \"rb\")\n",
    "model2 = pickle.load(fid)\n",
    "fid.close()\n",
    "#model2 = pickle.loads(modelFid)\n",
    "pred2 = model2.predict(ncXtest)\n",
    "print(\"Loaded model\")\n",
    "getCA(pred2, Ytest)"
   ]
  },
  {
   "cell_type": "code",
   "execution_count": null,
   "metadata": {},
   "outputs": [],
   "source": []
  }
 ],
 "metadata": {
  "kernelspec": {
   "display_name": "Python 3",
   "language": "python",
   "name": "python3"
  },
  "language_info": {
   "codemirror_mode": {
    "name": "ipython",
    "version": 3
   },
   "file_extension": ".py",
   "mimetype": "text/x-python",
   "name": "python",
   "nbconvert_exporter": "python",
   "pygments_lexer": "ipython3",
   "version": "3.6.6"
  }
 },
 "nbformat": 4,
 "nbformat_minor": 2
}
